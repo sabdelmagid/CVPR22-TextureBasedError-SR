{
 "cells": [
  {
   "cell_type": "markdown",
   "metadata": {},
   "source": [
    "In this notebook, we load each HR image of a dataset and generate its bicubic downsampled version. This is used for the dataloader later. \n",
    "\n",
    "We use https://github.com/sanghyun-son/bicubic_pytorch/blob/master/core.py to do matlab like bicubic interpolation. "
   ]
  },
  {
   "cell_type": "code",
   "execution_count": null,
   "metadata": {},
   "outputs": [],
   "source": [
    "import matplotlib.pyplot as plt \n",
    "import core\n",
    "import imageio \n",
    "import glob\n",
    "import torch\n",
    "import os\n",
    "\n",
    "\n",
    "scale = 4 \n",
    "dataset_name = \"DIV2K\"\n",
    "\n",
    "## your directory which contains DIV2K \n",
    "hr_folder = \"path/to/_train_HR/\"\n",
    "lr_folder = \"save path/to/_train_LR_bicubic/X4\" \n",
    "\n",
    "\n",
    "if not os.path.exists(lr_folder):\n",
    "    os.makedirs(lr_folder)\n",
    "    print(\"Created LR directory.\")\n",
    "    \n",
    "\n",
    "print(hr_folder,\"\\n\"*5,lr_folder)\n"
   ]
  },
  {
   "cell_type": "code",
   "execution_count": null,
   "metadata": {
    "scrolled": true
   },
   "outputs": [],
   "source": [
    "# For each HR image in the dataset. Load it and generate the LR by downsampling it.\n",
    "\n",
    "hr_img_paths = glob.glob(hr_folder + \"*\")\n",
    "for count,hr_img_path in enumerate(hr_img_paths):\n",
    "    print(\"{}/{}\".format(count,len(hr_img_paths)))\n",
    "    print(\"Reading HR: \", hr_img_path.split(\"/\")[-1])\n",
    "\n",
    "    hr_img = imageio.imread(hr_img_path)\n",
    "    #assert (hr_img.min() == 0 and hr_img.max() == 255)\n",
    "    assert hr_img.dtype  == 'uint8'\n",
    "    \n",
    "    # We support 2, 3, and 4-dim Tensors\n",
    "    # (H x W, C x H x W, and B x C x H x W, respectively).\n",
    "    hr_img = torch.tensor(hr_img).permute(2,0,1).unsqueeze(0)\n",
    "    lr_img = core.imresize(hr_img, scale=1/scale)\n",
    "    # convert to numpy, astype uint8, and put channels last.\n",
    "    lr_img = lr_img.squeeze(0).numpy().astype(\"uint8\").transpose(1,2,0)\n",
    "    \n",
    "    # 0001 .png\n",
    "    img_file = hr_img_path.split(\"/\")[-1].split(\".\")[0]\n",
    "    lr_img_file = img_file + \"x\" + str(scale) + \".png\"\n",
    "    lr_img_path = lr_folder + lr_img_file\n",
    "    \n",
    "    \n",
    "    print(\"Writing LR: \", lr_img_path.split(\"/\")[-1])\n",
    "    print(\"---\" * 3 )\n",
    "    imageio.imwrite(lr_img_path,lr_img)\n",
    "    \n",
    "    "
   ]
  },
  {
   "cell_type": "code",
   "execution_count": null,
   "metadata": {},
   "outputs": [],
   "source": []
  },
  {
   "cell_type": "code",
   "execution_count": null,
   "metadata": {},
   "outputs": [],
   "source": []
  }
 ],
 "metadata": {
  "kernelspec": {
   "display_name": "Python 3",
   "language": "python",
   "name": "python3"
  },
  "language_info": {
   "codemirror_mode": {
    "name": "ipython",
    "version": 3
   },
   "file_extension": ".py",
   "mimetype": "text/x-python",
   "name": "python",
   "nbconvert_exporter": "python",
   "pygments_lexer": "ipython3",
   "version": "3.6.10"
  }
 },
 "nbformat": 4,
 "nbformat_minor": 2
}
